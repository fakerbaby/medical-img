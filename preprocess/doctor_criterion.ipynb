{
 "cells": [
  {
   "cell_type": "code",
   "execution_count": 7,
   "metadata": {},
   "outputs": [],
   "source": [
    "import os \n",
    "import pandas as pd\n",
    "import re"
   ]
  },
  {
   "cell_type": "code",
   "execution_count": 8,
   "metadata": {},
   "outputs": [
    {
     "data": {
      "text/plain": [
       "[                              img  label\n",
       " 0     B00019-3R-UM-P3_11-04-N.bmp      1\n",
       " 1        B00017-4R-P8_15-03-N.bmp      1\n",
       " 2      B00020-3R-UN-P0_2-01-N.bmp      0\n",
       " 3     B00004-6L-UM-P1_16-02-N.bmp      1\n",
       " 4     B00019-3R-UM-P3_11-03-N.bmp      1\n",
       " ..                            ...    ...\n",
       " 203   B00022-6L-UM-P2_13-02-N.bmp      1\n",
       " 204   B00010-2R-UM-P5_21-10-T.bmp      1\n",
       " 205     B00012-4L-UN-P0_0-2-T.bmp      0\n",
       " 206   B00009-3L-UM-P4_11-12-N.bmp      1\n",
       " 207  B00003-6L-UM-P4_9-1-T-03.bmp      1\n",
       " \n",
       " [208 rows x 2 columns],\n",
       "                            img  label\n",
       " 0    C0004-6L-UM-P3_7-08-T.bmp      1\n",
       " 1    C0012-6R-UM-P1_1-01-T.bmp      1\n",
       " 2    C0004-6L-UM-P3_7-02-T.bmp      1\n",
       " 3    C0004-6L-UM-P2_3-06-T.bmp      1\n",
       " 4    C0002-6L-UM-P2_4-05-N.bmp      1\n",
       " ..                         ...    ...\n",
       " 57  C0009-6R-UM-P8_18-07-T.bmp      1\n",
       " 58   C0004-6R-UM-P4_6-05-T.bmp      1\n",
       " 59  C0003-6L-UM-P2_12-03-T.bmp      1\n",
       " 60   C0010-6R-UM-P0_5-04-T.bmp      0\n",
       " 61   C0004-6L-UM-P3_7-04-T.bmp      1\n",
       " \n",
       " [62 rows x 2 columns],\n",
       "                            img  label\n",
       " 0    D0047-4L-UN-P0_9-01-T.bmp      0\n",
       " 1    D0002-6L-UM-P2_2-01-T.bmp      1\n",
       " 2   D0032-4L-UM-P0_14-01-T.bmp      0\n",
       " 3    D0043-4R-UM-P0_1-01-T.bmp      0\n",
       " 4    D0019-3L-UM-P3_4-01-T.bmp      1\n",
       " ..                         ...    ...\n",
       " 92  D0041-3R-UM-P0_10-03-T.bmp      0\n",
       " 93   D0006-6R-UM-P2_2-01-T.bmp      1\n",
       " 94   D0044-4R-UM-P0_1-02-T.bmp      0\n",
       " 95   D0040-L4-UM-P2_3-02-N.bmp      1\n",
       " 96   D0028-L6-UM-P1_1-01-N.bmp      1\n",
       " \n",
       " [97 rows x 2 columns]]"
      ]
     },
     "execution_count": 8,
     "metadata": {},
     "output_type": "execute_result"
    }
   ],
   "source": [
    "train_csv_path, test_csv_path = \"../dataset/csv/label.csv\"   , \"../dataset/csv/label_test_BCD.csv\"\n",
    "testBCD_csv_path = [\"../dataset/csv/label_test_B.csv\", \"../dataset/csv/label_test_C.csv\", \"../dataset/csv/label_test_D.csv\"]\n",
    "train_csv, test_csv = pd.read_csv(train_csv_path), pd.read_csv(test_csv_path)\n",
    "testBCD = [pd.read_csv(csv_path) for csv_path in testBCD_csv_path]\n",
    "testBCD"
   ]
  },
  {
   "cell_type": "code",
   "execution_count": 9,
   "metadata": {},
   "outputs": [],
   "source": [
    "train_dict = train_csv.to_dict('list')\n",
    "test_dict = test_csv.to_dict('list')\n",
    "testBCD_dict = [test.to_dict('list') for test in testBCD]"
   ]
  },
  {
   "cell_type": "code",
   "execution_count": 10,
   "metadata": {},
   "outputs": [
    {
     "data": {
      "text/plain": [
       "[label\n",
       " 1    177\n",
       " 0     31\n",
       " dtype: int64,\n",
       " label\n",
       " 1    47\n",
       " 0    15\n",
       " dtype: int64,\n",
       " label\n",
       " 1    52\n",
       " 0    45\n",
       " dtype: int64]"
      ]
     },
     "execution_count": 10,
     "metadata": {},
     "output_type": "execute_result"
    }
   ],
   "source": [
    "x=[a.value_counts(\"label\") for a in testBCD]\n",
    "x"
   ]
  },
  {
   "cell_type": "code",
   "execution_count": 11,
   "metadata": {},
   "outputs": [
    {
     "data": {
      "text/plain": [
       "208"
      ]
     },
     "execution_count": 11,
     "metadata": {},
     "output_type": "execute_result"
    }
   ],
   "source": [
    "train_img, train_label = train_dict[\"img\"], train_dict[\"label\"]\n",
    "test_img, test_label = test_dict[\"img\"], test_dict[\"label\"]\n",
    "testBCD_img, testBCD_label = [test[\"img\"] for test in testBCD_dict], [test[\"label\"] for test in testBCD_dict]\n",
    "len(testBCD_img[0])"
   ]
  },
  {
   "cell_type": "code",
   "execution_count": 17,
   "metadata": {},
   "outputs": [],
   "source": [
    "def criterion_sum(test_preds, test_label):\n",
    "    pattern_po = \".*UM.*\"\n",
    "    pattern_ne = \".*UN.*\"\n",
    "    TP, TN, FP, FN = 0, 0, 0, 0\n",
    "    for i in range(len(test_preds)):\n",
    "        if re.match(pattern_po, test_preds[i]):\n",
    "            if test_label[i] == 1:\n",
    "                #doctor judge as positive\n",
    "                TP += 1\n",
    "            else:\n",
    "                FP += 1\n",
    "        elif re.match(pattern_ne, test_preds[i]):\n",
    "            if test_label[i] == 0:\n",
    "                TN += 1\n",
    "            else:\n",
    "                FN += 1\n",
    "    recall_po = (TP) / (TP + FN)\n",
    "    recall_ne = (TN) / (TN + FP)\n",
    "    f1 = 2*(recall_ne*recall_po)/(recall_ne + recall_po)\n",
    "    return recall_po, recall_ne, f1\n",
    "\n",
    "def TN_sum(test_name):\n",
    "    pattern_t = \".*T.*\"\n",
    "    pattern_n = \".*N.*\"\n",
    "    T, N = 0, 0\n",
    "    for img in test_name:\n",
    "        if re.match(pattern_t, img):\n",
    "            T += 1\n",
    "        elif re.match(pattern_n, img):\n",
    "            N += 1\n",
    "    print(T , \" \", N)\n",
    "    return T, N\n",
    "            \n",
    "    "
   ]
  },
  {
   "cell_type": "code",
   "execution_count": 18,
   "metadata": {},
   "outputs": [
    {
     "name": "stdout",
     "output_type": "stream",
     "text": [
      "38   170\n",
      "57   5\n",
      "61   36\n"
     ]
    },
    {
     "data": {
      "text/plain": [
       "[(38, 170), (57, 5), (61, 36)]"
      ]
     },
     "execution_count": 18,
     "metadata": {},
     "output_type": "execute_result"
    }
   ],
   "source": [
    "[TN_sum(img) for img in testBCD_img]\n"
   ]
  },
  {
   "cell_type": "code",
   "execution_count": 13,
   "metadata": {},
   "outputs": [
    {
     "data": {
      "text/plain": [
       "(0.7894025079911483, 0.4344969199178645, 0.5604920640964466)"
      ]
     },
     "execution_count": 13,
     "metadata": {},
     "output_type": "execute_result"
    }
   ],
   "source": [
    "criterion_sum(train_img, train_label)\n"
   ]
  },
  {
   "cell_type": "code",
   "execution_count": 14,
   "metadata": {},
   "outputs": [
    {
     "data": {
      "text/plain": [
       "(0.9630996309963099, 0.4175824175824176, 0.5825721753942847)"
      ]
     },
     "execution_count": 14,
     "metadata": {},
     "output_type": "execute_result"
    }
   ],
   "source": [
    "criterion_sum(test_img, test_label)\n",
    "# len(test_img)\n"
   ]
  },
  {
   "cell_type": "code",
   "execution_count": 10,
   "metadata": {},
   "outputs": [
    {
     "data": {
      "text/plain": [
       "[(0.9418604651162791, 0.8709677419354839, 0.9050279329608939),\n",
       " (1.0, 0.06666666666666667, 0.125),\n",
       " (1.0, 0.2222222222222222, 0.3636363636363636)]"
      ]
     },
     "execution_count": 10,
     "metadata": {},
     "output_type": "execute_result"
    }
   ],
   "source": [
    "[criterion_sum(img, label) for img, label in zip(testBCD_img, testBCD_label)]"
   ]
  }
 ],
 "metadata": {
  "kernelspec": {
   "display_name": "Python 3.8.13 ('lancet')",
   "language": "python",
   "name": "python3"
  },
  "language_info": {
   "codemirror_mode": {
    "name": "ipython",
    "version": 3
   },
   "file_extension": ".py",
   "mimetype": "text/x-python",
   "name": "python",
   "nbconvert_exporter": "python",
   "pygments_lexer": "ipython3",
   "version": "3.8.13"
  },
  "orig_nbformat": 4,
  "vscode": {
   "interpreter": {
    "hash": "74a51e9ac2869b7b6e9987799b00711d7fb226ac57df05f0f6b5307642aaccef"
   }
  }
 },
 "nbformat": 4,
 "nbformat_minor": 2
}
