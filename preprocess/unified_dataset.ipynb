{
 "cells": [
  {
   "cell_type": "code",
   "execution_count": 3,
   "metadata": {},
   "outputs": [],
   "source": [
    "import os\n",
    "import shutil\n",
    "import re\n",
    "from fnmatch import fnmatch\n",
    "from pathlib import Path\n",
    "import csv\n",
    "import pandas as pd\n",
    "import numpy as np"
   ]
  },
  {
   "cell_type": "code",
   "execution_count": 4,
   "metadata": {},
   "outputs": [],
   "source": [
    "def filter_useless_dir(dir_name: str):\n",
    "    return True if re.match('[A-D].*', dir_name) and not re.match('A.*-A.*', dir_name) else False\n",
    "\n",
    "def filter_useless_pic(pic_name: str):\n",
    "    return True if re.match('[A-D].*[T|N].*', pic_name) else False\n",
    "\n",
    "def normalize_pic_name(old_name):\n",
    "    return old_name + \".dcm\" if re.match('.*[T|N]$', old_name) else old_name\n",
    "\n",
    "\n"
   ]
  },
  {
   "cell_type": "code",
   "execution_count": 23,
   "metadata": {},
   "outputs": [],
   "source": [
    "\n",
    "def walk_directory(datapath):\n",
    "    \"\"\"\n",
    "        遍历文件夹下的文件，同时筛选出符合要求的文件夹\n",
    "    \"\"\"\n",
    "    base_path = datapath\n",
    "    if not os.path.exists(base_path):\n",
    "        print(\"path {} not exist!\".format(base_path))\n",
    "        return -1\n",
    "    dir_path_list, pic_path_list = [], []\n",
    "    a, b  = 0, 0\n",
    "    for root, dirs, files in os.walk(base_path, topdown=True):\n",
    "        for name in files:\n",
    "            a += 1\n",
    "            if filter_useless_pic(name) is True:\n",
    "                # normalization the picname\n",
    "                old_name = name\n",
    "                new_name = normalize_pic_name(name)\n",
    "                old_tmp_path = os.path.join(root, old_name)\n",
    "                new_tmp_path = os.path.join(root, new_name)\n",
    "                os.rename(old_tmp_path, new_tmp_path)\n",
    "                pic_path_list.append(new_tmp_path)\n",
    "                print(old_name)\n",
    "            else:\n",
    "                # delete useless files\n",
    "                os.remove(os.path.join(root, name))\n",
    "                pass\n",
    "                \n",
    "        for name in dirs:\n",
    "            b += 1\n",
    "            if filter_useless_dir(name) is True:\n",
    "                tmp_path = os.path.join(root, name)\n",
    "                dir_path_list.append(tmp_path)\n",
    "                print(tmp_path)\n",
    "    print(a, b )\n",
    "    return pic_path_list, dir_path_list\n",
    "    "
   ]
  },
  {
   "cell_type": "code",
   "execution_count": 22,
   "metadata": {},
   "outputs": [
    {
     "name": "stdout",
     "output_type": "stream",
     "text": [
      "0 0\n"
     ]
    },
    {
     "data": {
      "text/plain": [
       "([], [])"
      ]
     },
     "execution_count": 22,
     "metadata": {},
     "output_type": "execute_result"
    }
   ],
   "source": [
    "original_dataset_path = \"../../multi-center\"\n",
    "dict = walk_directory(original_dataset_path)\n",
    "\n",
    "dict"
   ]
  },
  {
   "cell_type": "code",
   "execution_count": 16,
   "metadata": {},
   "outputs": [],
   "source": [
    "pic_path_list, dir_path_list = dict[0], dict[1]"
   ]
  },
  {
   "cell_type": "code",
   "execution_count": 17,
   "metadata": {},
   "outputs": [
    {
     "data": {
      "text/plain": [
       "112"
      ]
     },
     "execution_count": 17,
     "metadata": {},
     "output_type": "execute_result"
    }
   ],
   "source": [
    "len(dir_path_list)\n",
    "# len(pic_path_list)\n",
    "# print(dir_path_list)\n",
    "# print(pic_path_list)"
   ]
  },
  {
   "cell_type": "code",
   "execution_count": 18,
   "metadata": {},
   "outputs": [],
   "source": [
    "def mv2traindir(srclist, dst):\n",
    "    \"\"\"\n",
    "        移动前续遍历文件夹到正式的训练集/测试集文件夹下\n",
    "    \"\"\"\n",
    "    a = 0 \n",
    "    for src in srclist:\n",
    "        src_name = os.path.split(src)[1]\n",
    "        dst_path = os.path.join(dst, src_name)\n",
    "        if os.path.exists(dst_path) is False:\n",
    "            print(dst_path)\n",
    "            shutil.move(src, dst_path)\n",
    "            a += 1\n",
    "    print(a)\n",
    "\n",
    "def mv2testdir(srclist, dst):\n",
    "    \"\"\"\n",
    "        移动前续遍历文件夹到正式的训练集/测试集文件夹下\n",
    "    \"\"\"\n",
    "    a = 0 \n",
    "    for src in srclist:\n",
    "        src_name = os.path.split(src)[1]\n",
    "        dst_path = os.path.join(dst, src_name)\n",
    "        if os.path.exists(dst_path) is False:\n",
    "            print(dst_path)\n",
    "            shutil.move(src, dst_path)\n",
    "            a += 1\n",
    "    print(a)\n",
    "    "
   ]
  },
  {
   "cell_type": "code",
   "execution_count": 19,
   "metadata": {},
   "outputs": [],
   "source": [
    "# train_dataset = \"../../bags_dataset/\"\n",
    "test_datatset = \"../../bags_test/\""
   ]
  },
  {
   "cell_type": "code",
   "execution_count": 24,
   "metadata": {},
   "outputs": [
    {
     "name": "stdout",
     "output_type": "stream",
     "text": [
      "../../bags_test/B00019-R3(3_11)R4(5_9)R6(8_8)\n"
     ]
    },
    {
     "ename": "FileNotFoundError",
     "evalue": "[Errno 2] No such file or directory: '../../multi-center/B00001-B00036/B00019-R3(3_11)R4(5_9)R6(8_8)'",
     "output_type": "error",
     "traceback": [
      "\u001b[0;31m---------------------------------------------------------------------------\u001b[0m",
      "\u001b[0;31mFileNotFoundError\u001b[0m                         Traceback (most recent call last)",
      "File \u001b[0;32m/opt/conda/envs/lancet/lib/python3.8/shutil.py:791\u001b[0m, in \u001b[0;36mmove\u001b[0;34m(src, dst, copy_function)\u001b[0m\n\u001b[1;32m    790\u001b[0m \u001b[39mtry\u001b[39;00m:\n\u001b[0;32m--> 791\u001b[0m     os\u001b[39m.\u001b[39;49mrename(src, real_dst)\n\u001b[1;32m    792\u001b[0m \u001b[39mexcept\u001b[39;00m \u001b[39mOSError\u001b[39;00m:\n",
      "\u001b[0;31mFileNotFoundError\u001b[0m: [Errno 2] No such file or directory: '../../multi-center/B00001-B00036/B00019-R3(3_11)R4(5_9)R6(8_8)' -> '../../bags_test/B00019-R3(3_11)R4(5_9)R6(8_8)'",
      "\nDuring handling of the above exception, another exception occurred:\n",
      "\u001b[0;31mFileNotFoundError\u001b[0m                         Traceback (most recent call last)",
      "\u001b[1;32m/root/medical-img/preprocess/unified_dataset.ipynb Cell 9\u001b[0m in \u001b[0;36m<cell line: 2>\u001b[0;34m()\u001b[0m\n\u001b[1;32m      <a href='vscode-notebook-cell://ssh-remote%2B3090-48/root/medical-img/preprocess/unified_dataset.ipynb#X11sdnNjb2RlLXJlbW90ZQ%3D%3D?line=0'>1</a>\u001b[0m \u001b[39m# mv2traindir(dir_path_list, train_dataset)\u001b[39;00m\n\u001b[0;32m----> <a href='vscode-notebook-cell://ssh-remote%2B3090-48/root/medical-img/preprocess/unified_dataset.ipynb#X11sdnNjb2RlLXJlbW90ZQ%3D%3D?line=1'>2</a>\u001b[0m mv2testdir(dir_path_list, test_datatset)\n",
      "\u001b[1;32m/root/medical-img/preprocess/unified_dataset.ipynb Cell 9\u001b[0m in \u001b[0;36mmv2testdir\u001b[0;34m(srclist, dst)\u001b[0m\n\u001b[1;32m     <a href='vscode-notebook-cell://ssh-remote%2B3090-48/root/medical-img/preprocess/unified_dataset.ipynb#X11sdnNjb2RlLXJlbW90ZQ%3D%3D?line=22'>23</a>\u001b[0m     \u001b[39mif\u001b[39;00m os\u001b[39m.\u001b[39mpath\u001b[39m.\u001b[39mexists(dst_path) \u001b[39mis\u001b[39;00m \u001b[39mFalse\u001b[39;00m:\n\u001b[1;32m     <a href='vscode-notebook-cell://ssh-remote%2B3090-48/root/medical-img/preprocess/unified_dataset.ipynb#X11sdnNjb2RlLXJlbW90ZQ%3D%3D?line=23'>24</a>\u001b[0m         \u001b[39mprint\u001b[39m(dst_path)\n\u001b[0;32m---> <a href='vscode-notebook-cell://ssh-remote%2B3090-48/root/medical-img/preprocess/unified_dataset.ipynb#X11sdnNjb2RlLXJlbW90ZQ%3D%3D?line=24'>25</a>\u001b[0m         shutil\u001b[39m.\u001b[39;49mmove(src, dst_path)\n\u001b[1;32m     <a href='vscode-notebook-cell://ssh-remote%2B3090-48/root/medical-img/preprocess/unified_dataset.ipynb#X11sdnNjb2RlLXJlbW90ZQ%3D%3D?line=25'>26</a>\u001b[0m         a \u001b[39m+\u001b[39m\u001b[39m=\u001b[39m \u001b[39m1\u001b[39m\n\u001b[1;32m     <a href='vscode-notebook-cell://ssh-remote%2B3090-48/root/medical-img/preprocess/unified_dataset.ipynb#X11sdnNjb2RlLXJlbW90ZQ%3D%3D?line=26'>27</a>\u001b[0m \u001b[39mprint\u001b[39m(a)\n",
      "File \u001b[0;32m/opt/conda/envs/lancet/lib/python3.8/shutil.py:811\u001b[0m, in \u001b[0;36mmove\u001b[0;34m(src, dst, copy_function)\u001b[0m\n\u001b[1;32m    809\u001b[0m         rmtree(src)\n\u001b[1;32m    810\u001b[0m     \u001b[39melse\u001b[39;00m:\n\u001b[0;32m--> 811\u001b[0m         copy_function(src, real_dst)\n\u001b[1;32m    812\u001b[0m         os\u001b[39m.\u001b[39munlink(src)\n\u001b[1;32m    813\u001b[0m \u001b[39mreturn\u001b[39;00m real_dst\n",
      "File \u001b[0;32m/opt/conda/envs/lancet/lib/python3.8/shutil.py:435\u001b[0m, in \u001b[0;36mcopy2\u001b[0;34m(src, dst, follow_symlinks)\u001b[0m\n\u001b[1;32m    433\u001b[0m \u001b[39mif\u001b[39;00m os\u001b[39m.\u001b[39mpath\u001b[39m.\u001b[39misdir(dst):\n\u001b[1;32m    434\u001b[0m     dst \u001b[39m=\u001b[39m os\u001b[39m.\u001b[39mpath\u001b[39m.\u001b[39mjoin(dst, os\u001b[39m.\u001b[39mpath\u001b[39m.\u001b[39mbasename(src))\n\u001b[0;32m--> 435\u001b[0m copyfile(src, dst, follow_symlinks\u001b[39m=\u001b[39;49mfollow_symlinks)\n\u001b[1;32m    436\u001b[0m copystat(src, dst, follow_symlinks\u001b[39m=\u001b[39mfollow_symlinks)\n\u001b[1;32m    437\u001b[0m \u001b[39mreturn\u001b[39;00m dst\n",
      "File \u001b[0;32m/opt/conda/envs/lancet/lib/python3.8/shutil.py:264\u001b[0m, in \u001b[0;36mcopyfile\u001b[0;34m(src, dst, follow_symlinks)\u001b[0m\n\u001b[1;32m    262\u001b[0m     os\u001b[39m.\u001b[39msymlink(os\u001b[39m.\u001b[39mreadlink(src), dst)\n\u001b[1;32m    263\u001b[0m \u001b[39melse\u001b[39;00m:\n\u001b[0;32m--> 264\u001b[0m     \u001b[39mwith\u001b[39;00m \u001b[39mopen\u001b[39;49m(src, \u001b[39m'\u001b[39;49m\u001b[39mrb\u001b[39;49m\u001b[39m'\u001b[39;49m) \u001b[39mas\u001b[39;00m fsrc, \u001b[39mopen\u001b[39m(dst, \u001b[39m'\u001b[39m\u001b[39mwb\u001b[39m\u001b[39m'\u001b[39m) \u001b[39mas\u001b[39;00m fdst:\n\u001b[1;32m    265\u001b[0m         \u001b[39m# macOS\u001b[39;00m\n\u001b[1;32m    266\u001b[0m         \u001b[39mif\u001b[39;00m _HAS_FCOPYFILE:\n\u001b[1;32m    267\u001b[0m             \u001b[39mtry\u001b[39;00m:\n",
      "\u001b[0;31mFileNotFoundError\u001b[0m: [Errno 2] No such file or directory: '../../multi-center/B00001-B00036/B00019-R3(3_11)R4(5_9)R6(8_8)'"
     ]
    }
   ],
   "source": [
    "# mv2traindir(dir_path_list, train_dataset)\n",
    "mv2testdir(dir_path_list, test_datatset)"
   ]
  },
  {
   "cell_type": "code",
   "execution_count": 38,
   "metadata": {},
   "outputs": [],
   "source": [
    "def walk_delete_emptydir(src):\n",
    "    a = 0\n",
    "    for root, dirs, names in os.walk(src):\n",
    "        for name in dirs:\n",
    "            # print(name)\n",
    "            if len(os.listdir(os.path.join(root, name))) == 0:\n",
    "                print(name)\n",
    "                os.rmdir(os.path.join(root, name))\n",
    "        for name in names: \n",
    "            a += 1          \n",
    "    print(a)\n",
    "\n",
    "def convertdcm2bmp(src):\n",
    "    a = 0\n",
    "    for root, dirs, names in os.walk(src):\n",
    "        for name in names:\n",
    "            # print(name)\n",
    "            root_ = root\n",
    "            root = root.replace(\"(\", \"\").replace(\")\", \"\")\n",
    "            os.rename(root_, root)\n",
    "            # print(root)\n",
    "            path = os.path.join(root, name)\n",
    "            old_name = path\n",
    "            new_name = old_name[:-4] + \".bmp\"\n",
    "            if re.match(\".*.[dcm]$\", name):\n",
    "                # print(old_name, \" => \", new_name)\n",
    "                # os.system(f\"dcmj2pnm --write-bmp {old_name} {new_name}\")\n",
    "                os.remove(old_name)\n",
    "            if re.match(\".*.[tiff]$\", name):\n",
    "                old_name = path\n",
    "                new_name = old_name[:-5] + \".jpg\"\n",
    "                os.system(f\"convert {old_name} {new_name}\")\n",
    "                os.remove(old_name)\n",
    "                \n",
    "            if re.match(\".*-0_.*\", name):\n",
    "                # print(new_name) \n",
    "                nn_name = new_name.replace(\"-0_\", \"-P0_\")\n",
    "                print(nn_name)\n",
    "                os.rename(new_name, nn_name)\n"
   ]
  },
  {
   "cell_type": "code",
   "execution_count": 40,
   "metadata": {},
   "outputs": [
    {
     "name": "stdout",
     "output_type": "stream",
     "text": [
      "440\n"
     ]
    }
   ],
   "source": [
    "walk_delete_emptydir(test_datatset)"
   ]
  },
  {
   "cell_type": "code",
   "execution_count": 41,
   "metadata": {},
   "outputs": [],
   "source": [
    "convertdcm2bmp(test_datatset)"
   ]
  },
  {
   "cell_type": "code",
   "execution_count": 42,
   "metadata": {},
   "outputs": [
    {
     "name": "stdout",
     "output_type": "stream",
     "text": [
      "369\n"
     ]
    }
   ],
   "source": [
    "walk_delete_emptydir(test_datatset)\n"
   ]
  },
  {
   "cell_type": "code",
   "execution_count": 43,
   "metadata": {},
   "outputs": [],
   "source": [
    "# annotation_file_path = \"../mil_annontations/data.csv\"\n",
    "# instance_label = \"../mil_annotations/label.csv\"\n",
    "# idx_label = \"../mil_annotations/idx.csv\"\n",
    "# train_dataset = \"../../bags_dataset/\"\n",
    "\n",
    "# os.mkdir(\"../mil_annontations\")\n",
    "\n",
    "# def generate_file_path(src, dst):\n",
    "#     csv_dict = {}\n",
    "\n",
    "\n",
    "def generate_instance_label(src, dst):\n",
    "    \"\"\"\n",
    "    instance level labels\n",
    "    \"\"\"\n",
    "    label_dict = {}\n",
    "    n = ['img_path', 'label']\n",
    "    for root, dirs, names in os.walk(src):\n",
    "        for name in names:\n",
    "            path = os.path.join(root, name)\n",
    "            if re.match(\".*-P0_.*\", name):\n",
    "                label_dict[path] = 0\n",
    "            # elif re.match(\".*-P[0-9]_.*\", name):\n",
    "            #     label_dict[path] = 1\n",
    "            else:\n",
    "                label_dict[path] = 1\n",
    "    try: \n",
    "        with open(dst, 'w') as f:\n",
    "            w = csv.writer(f)\n",
    "            for k,v in label_dict.items():\n",
    "                w.writerow([k, v])\n",
    "    except OSError as e:\n",
    "        print(e.strerror)\n",
    "    #add_header\n",
    "    df = pd.read_csv(dst, names=n)\n",
    "    df.to_csv(dst, index=False)\n",
    "    print(\"instance level csv generation complete!\")\n",
    "    # print(label_dict)\n",
    "                \n",
    "def generate_idx(src, dst):\n",
    "    label_dict = {}\n",
    "    idx = 0 # iteratively increase to distinguish different bags\n",
    "    n = ['img_path', 'idx']\n",
    "    pre = tmp = 0\n",
    "    for root, dirs, names in os.walk(src):\n",
    "        for name in names:\n",
    "            in_directory = os.path.split(root)[1]\n",
    "            # print(in_directory, \"->\", name)\n",
    "            pre = tmp\n",
    "            tmp = in_directory\n",
    "            if pre == 0:\n",
    "                label_dict[os.path.join(root, name)] = idx\n",
    "            elif tmp == pre:\n",
    "                label_dict[os.path.join(root, name)] = idx\n",
    "            else:\n",
    "                idx += 1 \n",
    "                label_dict[os.path.join(root, name)] = idx               \n",
    "    try: \n",
    "        with open(dst, 'w') as f:\n",
    "            w = csv.writer(f)\n",
    "            for k,v in label_dict.items():\n",
    "                w.writerow([k,v])\n",
    "    except OSError as e:\n",
    "        print(e.strerror)\n",
    "    #add_header\n",
    "    df = pd.read_csv(dst, names=n)\n",
    "    df.to_csv(dst, index=False)\n",
    "    print(\"idx csv generation complete!\")\n",
    "            \n",
    "\n",
    "def generate_bags_annotations(src, dst):\n",
    "    pass\n",
    "\n",
    "    \n"
   ]
  },
  {
   "cell_type": "code",
   "execution_count": 44,
   "metadata": {},
   "outputs": [
    {
     "name": "stdout",
     "output_type": "stream",
     "text": [
      "instance level csv generation complete!\n",
      "idx csv generation complete!\n"
     ]
    }
   ],
   "source": [
    "instance_label = \"../mil_annotations/label_test.csv\"\n",
    "idx_label = \"../mil_annotations/idx_test.csv\"\n",
    "generate_instance_label(test_datatset, instance_label)\n",
    "generate_idx(test_datatset, idx_label)"
   ]
  },
  {
   "cell_type": "code",
   "execution_count": 47,
   "metadata": {},
   "outputs": [
    {
     "ename": "SyntaxError",
     "evalue": "invalid syntax (170990008.py, line 1)",
     "output_type": "error",
     "traceback": [
      "\u001b[0;36m  Input \u001b[0;32mIn [47]\u001b[0;36m\u001b[0m\n\u001b[0;31m    import ../core.mil_pytorch.mil\u001b[0m\n\u001b[0m           ^\u001b[0m\n\u001b[0;31mSyntaxError\u001b[0m\u001b[0;31m:\u001b[0m invalid syntax\n"
     ]
    }
   ],
   "source": []
  }
 ],
 "metadata": {
  "kernelspec": {
   "display_name": "Python 3.8.13 ('lancet')",
   "language": "python",
   "name": "python3"
  },
  "language_info": {
   "codemirror_mode": {
    "name": "ipython",
    "version": 3
   },
   "file_extension": ".py",
   "mimetype": "text/x-python",
   "name": "python",
   "nbconvert_exporter": "python",
   "pygments_lexer": "ipython3",
   "version": "3.8.13"
  },
  "orig_nbformat": 4,
  "vscode": {
   "interpreter": {
    "hash": "74a51e9ac2869b7b6e9987799b00711d7fb226ac57df05f0f6b5307642aaccef"
   }
  }
 },
 "nbformat": 4,
 "nbformat_minor": 2
}
